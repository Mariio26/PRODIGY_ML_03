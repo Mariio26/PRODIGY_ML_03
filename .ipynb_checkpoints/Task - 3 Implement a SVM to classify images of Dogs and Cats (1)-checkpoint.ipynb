{
 "cells": [
  {
   "cell_type": "code",
   "execution_count": 1,
   "id": "b78dd65d",
   "metadata": {
    "colab": {
     "base_uri": "https://localhost:8080/",
     "height": 315
    },
    "executionInfo": {
     "elapsed": 642,
     "status": "error",
     "timestamp": 1716402493240,
     "user": {
      "displayName": "Maria ashfaq",
      "userId": "01475776385953214294"
     },
     "user_tz": -330
    },
    "id": "b78dd65d",
    "outputId": "8786d56a-952f-44d7-bc38-81a760adf30c"
   },
   "outputs": [
    {
     "ename": "FileNotFoundError",
     "evalue": "[Errno 2] No such file or directory: 'training_set.zip'",
     "output_type": "error",
     "traceback": [
      "\u001b[0;31m---------------------------------------------------------------------------\u001b[0m",
      "\u001b[0;31mFileNotFoundError\u001b[0m                         Traceback (most recent call last)",
      "\u001b[0;32m<ipython-input-1-db69e67e013a>\u001b[0m in \u001b[0;36m<cell line: 6>\u001b[0;34m()\u001b[0m\n\u001b[1;32m      4\u001b[0m \u001b[0mdataset_train\u001b[0m \u001b[0;34m=\u001b[0m \u001b[0;34m\"training_set.zip\"\u001b[0m\u001b[0;34m\u001b[0m\u001b[0;34m\u001b[0m\u001b[0m\n\u001b[1;32m      5\u001b[0m \u001b[0;34m\u001b[0m\u001b[0m\n\u001b[0;32m----> 6\u001b[0;31m \u001b[0;32mwith\u001b[0m \u001b[0mZipFile\u001b[0m\u001b[0;34m(\u001b[0m\u001b[0mdataset_train\u001b[0m\u001b[0;34m,\u001b[0m \u001b[0;34m'r'\u001b[0m\u001b[0;34m)\u001b[0m \u001b[0;32mas\u001b[0m \u001b[0mzip\u001b[0m\u001b[0;34m:\u001b[0m\u001b[0;34m\u001b[0m\u001b[0;34m\u001b[0m\u001b[0m\n\u001b[0m\u001b[1;32m      7\u001b[0m     \u001b[0mzip\u001b[0m\u001b[0;34m.\u001b[0m\u001b[0mextractall\u001b[0m\u001b[0;34m(\u001b[0m\u001b[0;34m)\u001b[0m\u001b[0;34m\u001b[0m\u001b[0;34m\u001b[0m\u001b[0m\n",
      "\u001b[0;32m/usr/lib/python3.10/zipfile.py\u001b[0m in \u001b[0;36m__init__\u001b[0;34m(self, file, mode, compression, allowZip64, compresslevel, strict_timestamps)\u001b[0m\n\u001b[1;32m   1249\u001b[0m             \u001b[0;32mwhile\u001b[0m \u001b[0;32mTrue\u001b[0m\u001b[0;34m:\u001b[0m\u001b[0;34m\u001b[0m\u001b[0;34m\u001b[0m\u001b[0m\n\u001b[1;32m   1250\u001b[0m                 \u001b[0;32mtry\u001b[0m\u001b[0;34m:\u001b[0m\u001b[0;34m\u001b[0m\u001b[0;34m\u001b[0m\u001b[0m\n\u001b[0;32m-> 1251\u001b[0;31m                     \u001b[0mself\u001b[0m\u001b[0;34m.\u001b[0m\u001b[0mfp\u001b[0m \u001b[0;34m=\u001b[0m \u001b[0mio\u001b[0m\u001b[0;34m.\u001b[0m\u001b[0mopen\u001b[0m\u001b[0;34m(\u001b[0m\u001b[0mfile\u001b[0m\u001b[0;34m,\u001b[0m \u001b[0mfilemode\u001b[0m\u001b[0;34m)\u001b[0m\u001b[0;34m\u001b[0m\u001b[0;34m\u001b[0m\u001b[0m\n\u001b[0m\u001b[1;32m   1252\u001b[0m                 \u001b[0;32mexcept\u001b[0m \u001b[0mOSError\u001b[0m\u001b[0;34m:\u001b[0m\u001b[0;34m\u001b[0m\u001b[0;34m\u001b[0m\u001b[0m\n\u001b[1;32m   1253\u001b[0m                     \u001b[0;32mif\u001b[0m \u001b[0mfilemode\u001b[0m \u001b[0;32min\u001b[0m \u001b[0mmodeDict\u001b[0m\u001b[0;34m:\u001b[0m\u001b[0;34m\u001b[0m\u001b[0;34m\u001b[0m\u001b[0m\n",
      "\u001b[0;31mFileNotFoundError\u001b[0m: [Errno 2] No such file or directory: 'training_set.zip'"
     ]
    }
   ],
   "source": [
    "# extract dataset\n",
    "from zipfile import ZipFile\n",
    "\n",
    "dataset_train = \"training_set.zip\"\n",
    "\n",
    "with ZipFile(dataset_train, 'r') as zip:\n",
    "    zip.extractall()"
   ]
  },
  {
   "cell_type": "code",
   "execution_count": null,
   "id": "c82c808c",
   "metadata": {
    "id": "c82c808c"
   },
   "outputs": [],
   "source": [
    "import os\n",
    "import numpy as np\n",
    "from sklearn.svm import SVC\n",
    "from sklearn.metrics import classification_report, confusion_matrix\n",
    "import matplotlib.pyplot as plt\n",
    "from tqdm import tqdm\n",
    "import joblib\n",
    "from sklearn.model_selection import GridSearchCV\n",
    "import cv2\n",
    "import seaborn as sns\n",
    "import time\n",
    "from sklearn.decomposition import PCA\n",
    "from sklearn.pipeline import Pipeline\n",
    "from sklearn.model_selection import train_test_split"
   ]
  },
  {
   "cell_type": "code",
   "execution_count": null,
   "id": "a05d4ec3",
   "metadata": {
    "id": "a05d4ec3"
   },
   "outputs": [],
   "source": [
    "folder_path = f\"Dataset/\"\n",
    "os.makedirs(folder_path, exist_ok=True)\n",
    "\n",
    "# define path\n",
    "confusion_image_path = os.path.join(folder_path, 'confusion matrix.png')\n",
    "classification_file_path = os.path.join(folder_path, 'classification_report.txt')\n",
    "model_file_path = os.path.join(folder_path, \"svm_model.pkl\")\n",
    "\n",
    "# Path dataset\n",
    "# dataset_dir = \"ProdigyML-Image-Classification-03/\"\n",
    "# train_dir = os.path.join(dataset_dir, \"training_set.zip\")\n",
    "# test_dir = os.path.join(dataset_dir, \"test_set.zip\")\n",
    "# train_dir= \"training_set\"\n",
    "# test_dir=\"test_set\""
   ]
  },
  {
   "cell_type": "code",
   "execution_count": null,
   "id": "8335a27a",
   "metadata": {
    "id": "8335a27a",
    "outputId": "0f696a70-7541-4fd1-c79b-50b5d4c39822"
   },
   "outputs": [
    {
     "name": "stderr",
     "output_type": "stream",
     "text": [
      "Processing cats Images:  93%|████████████ | 3728/4001 [00:02<00:00, 1693.76it/s]"
     ]
    },
    {
     "name": "stdout",
     "output_type": "stream",
     "text": [
      "Warning: Unable to read image file training_set/cats/_DS_Store. Skipping this file.\n"
     ]
    },
    {
     "name": "stderr",
     "output_type": "stream",
     "text": [
      "Processing cats Images: 100%|█████████████| 4001/4001 [00:02<00:00, 1583.05it/s]\n",
      "Processing dogs Images:  95%|████████████▍| 3823/4006 [00:02<00:00, 1346.11it/s]"
     ]
    },
    {
     "name": "stdout",
     "output_type": "stream",
     "text": [
      "Warning: Unable to read image file training_set/dogs/_DS_Store. Skipping this file.\n"
     ]
    },
    {
     "name": "stderr",
     "output_type": "stream",
     "text": [
      "Processing dogs Images: 100%|█████████████| 4006/4006 [00:03<00:00, 1303.03it/s]"
     ]
    },
    {
     "name": "stdout",
     "output_type": "stream",
     "text": [
      "Processed 8005 images.\n"
     ]
    },
    {
     "name": "stderr",
     "output_type": "stream",
     "text": [
      "\n"
     ]
    }
   ],
   "source": [
    "# load data, preprocessing data, and labeling\n",
    "# dog = 1, cat = 0\n",
    "# Define the directory path\n",
    "train_dir = \"training_set\"\n",
    "categories = [\"cats\", \"dogs\"]\n",
    "features = []\n",
    "labels = []\n",
    "image_size = (50, 50)\n",
    "\n",
    "# Process train images\n",
    "for category in categories:\n",
    "    category_path = os.path.join(train_dir, category)  # Path to the category subdirectory\n",
    "    label = 0 if category == \"cats\" else 1  # Assign label based on category\n",
    "    for image_name in tqdm(os.listdir(category_path), desc=f\"Processing {category} Images\"):\n",
    "        image_path = os.path.join(category_path, image_name)\n",
    "        image_read = cv2.imread(image_path)\n",
    "        if image_read is None:\n",
    "            print(f\"Warning: Unable to read image file {image_path}. Skipping this file.\")\n",
    "            continue  # Skip the file if it cannot be read\n",
    "        image_resized = cv2.resize(image_read, image_size)\n",
    "        image_normalized = image_resized / 255.0\n",
    "        image_flatten = image_normalized.flatten()\n",
    "        features.append(image_flatten)\n",
    "        labels.append(label)\n",
    "\n",
    "print(f\"Processed {len(features)} images.\")"
   ]
  },
  {
   "cell_type": "code",
   "execution_count": null,
   "id": "054b7066",
   "metadata": {
    "id": "054b7066"
   },
   "outputs": [],
   "source": [
    "# del train_images"
   ]
  },
  {
   "cell_type": "code",
   "execution_count": null,
   "id": "a646d9a0",
   "metadata": {
    "id": "a646d9a0"
   },
   "outputs": [],
   "source": [
    "features = np.asarray(features)\n",
    "labels = np.asarray(labels)\n",
    "\n",
    "# train test split\n",
    "X_train, X_test, y_train, y_test = train_test_split(features, labels, test_size=0.2, shuffle=True, random_state=42)"
   ]
  },
  {
   "cell_type": "code",
   "execution_count": null,
   "id": "44762227",
   "metadata": {
    "id": "44762227"
   },
   "outputs": [],
   "source": [
    "del features\n",
    "del labels"
   ]
  },
  {
   "cell_type": "code",
   "execution_count": null,
   "id": "fd8f10c8",
   "metadata": {
    "id": "fd8f10c8"
   },
   "outputs": [],
   "source": [
    "# PCA, SVM, & Pipeline\n",
    "n_components = 0.8\n",
    "pca = PCA(n_components=n_components)\n",
    "svm = SVC()\n",
    "pca = PCA(n_components=n_components, random_state=42)\n",
    "pipeline = Pipeline([\n",
    "    ('pca', pca),\n",
    "    ('svm', svm)\n",
    "])"
   ]
  },
  {
   "cell_type": "code",
   "execution_count": null,
   "id": "d8d3d9ff",
   "metadata": {
    "id": "d8d3d9ff"
   },
   "outputs": [],
   "source": [
    "param_grid = {\n",
    "    'pca__n_components': [2, 1, 0.9, 0.8],\n",
    "    'svm__kernel': ['linear', 'rbf', 'poly', 'sigmoid'],\n",
    "}"
   ]
  },
  {
   "cell_type": "code",
   "execution_count": null,
   "id": "3f6fadca",
   "metadata": {
    "id": "3f6fadca",
    "outputId": "7debf499-ff38-488d-86e3-d78289667561"
   },
   "outputs": [
    {
     "name": "stdout",
     "output_type": "stream",
     "text": [
      "Fitting 3 folds for each of 16 candidates, totalling 48 fits\n",
      "[CV 1/3] END pca__n_components=2, svm__kernel=linear;, score=0.540 total time=   5.9s\n",
      "[CV 2/3] END pca__n_components=2, svm__kernel=linear;, score=0.529 total time=   5.7s\n",
      "[CV 3/3] END pca__n_components=2, svm__kernel=linear;, score=0.515 total time=   5.9s\n",
      "[CV 1/3] END pca__n_components=2, svm__kernel=rbf;, score=0.565 total time=   5.6s\n",
      "[CV 2/3] END pca__n_components=2, svm__kernel=rbf;, score=0.561 total time=   5.6s\n",
      "[CV 3/3] END pca__n_components=2, svm__kernel=rbf;, score=0.551 total time=   5.5s\n",
      "[CV 1/3] END pca__n_components=2, svm__kernel=poly;, score=0.512 total time=   5.5s\n",
      "[CV 2/3] END pca__n_components=2, svm__kernel=poly;, score=0.509 total time=   5.3s\n",
      "[CV 3/3] END pca__n_components=2, svm__kernel=poly;, score=0.507 total time=   5.3s\n",
      "[CV 1/3] END pca__n_components=2, svm__kernel=sigmoid;, score=0.495 total time=   5.6s\n",
      "[CV 2/3] END pca__n_components=2, svm__kernel=sigmoid;, score=0.490 total time=   5.5s\n",
      "[CV 3/3] END pca__n_components=2, svm__kernel=sigmoid;, score=0.500 total time=   5.6s\n",
      "[CV 1/3] END pca__n_components=1, svm__kernel=linear;, score=0.532 total time=   5.3s\n",
      "[CV 2/3] END pca__n_components=1, svm__kernel=linear;, score=0.513 total time=   5.3s\n",
      "[CV 3/3] END pca__n_components=1, svm__kernel=linear;, score=0.506 total time=   5.6s\n",
      "[CV 1/3] END pca__n_components=1, svm__kernel=rbf;, score=0.521 total time=   5.7s\n",
      "[CV 2/3] END pca__n_components=1, svm__kernel=rbf;, score=0.519 total time=   5.6s\n",
      "[CV 3/3] END pca__n_components=1, svm__kernel=rbf;, score=0.517 total time=   5.7s\n",
      "[CV 1/3] END pca__n_components=1, svm__kernel=poly;, score=0.503 total time=   5.2s\n",
      "[CV 2/3] END pca__n_components=1, svm__kernel=poly;, score=0.504 total time=   5.5s\n",
      "[CV 3/3] END pca__n_components=1, svm__kernel=poly;, score=0.503 total time=   5.7s\n",
      "[CV 1/3] END pca__n_components=1, svm__kernel=sigmoid;, score=0.501 total time=   5.3s\n",
      "[CV 2/3] END pca__n_components=1, svm__kernel=sigmoid;, score=0.491 total time=   5.0s\n",
      "[CV 3/3] END pca__n_components=1, svm__kernel=sigmoid;, score=0.500 total time=   5.1s\n",
      "[CV 1/3] END pca__n_components=0.9, svm__kernel=linear;, score=0.593 total time= 1.5min\n",
      "[CV 2/3] END pca__n_components=0.9, svm__kernel=linear;, score=0.600 total time= 1.9min\n",
      "[CV 3/3] END pca__n_components=0.9, svm__kernel=linear;, score=0.576 total time= 2.1min\n",
      "[CV 1/3] END pca__n_components=0.9, svm__kernel=rbf;, score=0.644 total time= 1.5min\n",
      "[CV 2/3] END pca__n_components=0.9, svm__kernel=rbf;, score=0.645 total time= 1.5min\n",
      "[CV 3/3] END pca__n_components=0.9, svm__kernel=rbf;, score=0.639 total time= 1.5min\n",
      "[CV 1/3] END pca__n_components=0.9, svm__kernel=poly;, score=0.594 total time= 1.4min\n",
      "[CV 2/3] END pca__n_components=0.9, svm__kernel=poly;, score=0.591 total time= 1.5min\n",
      "[CV 3/3] END pca__n_components=0.9, svm__kernel=poly;, score=0.586 total time= 2.0min\n",
      "[CV 1/3] END pca__n_components=0.9, svm__kernel=sigmoid;, score=0.531 total time= 1.3min\n",
      "[CV 2/3] END pca__n_components=0.9, svm__kernel=sigmoid;, score=0.509 total time= 1.3min\n",
      "[CV 3/3] END pca__n_components=0.9, svm__kernel=sigmoid;, score=0.516 total time= 1.2min\n",
      "[CV 1/3] END pca__n_components=0.8, svm__kernel=linear;, score=0.575 total time= 1.3min\n",
      "[CV 2/3] END pca__n_components=0.8, svm__kernel=linear;, score=0.574 total time= 1.2min\n",
      "[CV 3/3] END pca__n_components=0.8, svm__kernel=linear;, score=0.576 total time= 1.5min\n",
      "[CV 1/3] END pca__n_components=0.8, svm__kernel=rbf;, score=0.638 total time= 1.5min\n",
      "[CV 2/3] END pca__n_components=0.8, svm__kernel=rbf;, score=0.648 total time= 1.3min\n",
      "[CV 3/3] END pca__n_components=0.8, svm__kernel=rbf;, score=0.628 total time= 1.2min\n",
      "[CV 1/3] END pca__n_components=0.8, svm__kernel=poly;, score=0.591 total time= 1.2min\n",
      "[CV 2/3] END pca__n_components=0.8, svm__kernel=poly;, score=0.578 total time= 1.3min\n",
      "[CV 3/3] END pca__n_components=0.8, svm__kernel=poly;, score=0.575 total time= 1.3min\n",
      "[CV 1/3] END pca__n_components=0.8, svm__kernel=sigmoid;, score=0.520 total time= 1.3min\n",
      "[CV 2/3] END pca__n_components=0.8, svm__kernel=sigmoid;, score=0.510 total time= 1.4min\n",
      "[CV 3/3] END pca__n_components=0.8, svm__kernel=sigmoid;, score=0.518 total time= 1.5min\n"
     ]
    }
   ],
   "source": [
    "# Hitung waktu training\n",
    "start_time = time.time()\n",
    "\n",
    "grid_search = GridSearchCV(pipeline, param_grid, cv=3, verbose=4)\n",
    "grid_search.fit(X_train, y_train)\n",
    "\n",
    "# Hitung waktu training\n",
    "end_time = time.time()"
   ]
  },
  {
   "cell_type": "code",
   "execution_count": null,
   "id": "738e3df2",
   "metadata": {
    "id": "738e3df2"
   },
   "outputs": [],
   "source": [
    "del X_train\n",
    "del y_train"
   ]
  },
  {
   "cell_type": "code",
   "execution_count": null,
   "id": "75a48001",
   "metadata": {
    "id": "75a48001",
    "outputId": "2d0a6f2d-9958-45dc-90cf-23db3d83be52"
   },
   "outputs": [
    {
     "name": "stdout",
     "output_type": "stream",
     "text": [
      "Best Parameters:  {'pca__n_components': 0.9, 'svm__kernel': 'rbf'}\n",
      "Best Score:  0.6428788720152587\n"
     ]
    }
   ],
   "source": [
    "best_pipeline = grid_search.best_estimator_\n",
    "best_params = grid_search.best_params_\n",
    "best_score = grid_search.best_score_\n",
    "\n",
    "print(\"Best Parameters: \", best_params)\n",
    "print(\"Best Score: \", best_score)"
   ]
  },
  {
   "cell_type": "markdown",
   "id": "468935fc",
   "metadata": {
    "id": "468935fc"
   },
   "source": [
    "The grid search identified the best SVM model configuration: using 90% of principal components and the Radial Basis Function (RBF) kernel. This setup yielded an accuracy score of approximately 67.57%, demonstrating the effectiveness of these parameters in accurately classifying cats and dogs images."
   ]
  },
  {
   "cell_type": "code",
   "execution_count": null,
   "id": "c595d007",
   "metadata": {
    "id": "c595d007",
    "outputId": "8607dbc3-530c-4855-8cd7-5abdea9b0b70"
   },
   "outputs": [
    {
     "name": "stdout",
     "output_type": "stream",
     "text": [
      "Accuracy: 0.6464709556527171\n"
     ]
    }
   ],
   "source": [
    "# Evaluation on test dataset\n",
    "accuracy = best_pipeline.score(X_test, y_test)\n",
    "print(\"Accuracy:\", accuracy)"
   ]
  },
  {
   "cell_type": "markdown",
   "id": "782958de",
   "metadata": {
    "id": "782958de"
   },
   "source": [
    "The model attained an accuracy score of approximately 67.62%, indicating its ability to correctly classify images of cats and dogs from the Kaggle dataset. This accuracy score reflects the proportion of correctly predicted classifications out of the total dataset, showcasing the model's overall performance."
   ]
  },
  {
   "cell_type": "code",
   "execution_count": null,
   "id": "06ca62aa",
   "metadata": {
    "id": "06ca62aa",
    "outputId": "d045f401-6b4d-47f0-dda3-72bdc9295c04"
   },
   "outputs": [
    {
     "name": "stdout",
     "output_type": "stream",
     "text": [
      "Classification Report:\n",
      "               precision    recall  f1-score   support\n",
      "\n",
      "         Cat       0.66      0.63      0.65       819\n",
      "         Dog       0.63      0.66      0.65       782\n",
      "\n",
      "    accuracy                           0.65      1601\n",
      "   macro avg       0.65      0.65      0.65      1601\n",
      "weighted avg       0.65      0.65      0.65      1601\n",
      "\n"
     ]
    }
   ],
   "source": [
    "y_pred = best_pipeline.predict(X_test)\n",
    "\n",
    "target_names = ['Cat', 'Dog']\n",
    "classification_rep = classification_report(y_test, y_pred, target_names=target_names)\n",
    "print(\"Classification Report:\\n\", classification_rep)\n",
    "with open(classification_file_path, 'w') as file:\n",
    "    file.write(classification_rep)"
   ]
  },
  {
   "cell_type": "markdown",
   "id": "d72578b8",
   "metadata": {
    "id": "d72578b8"
   },
   "source": [
    "In the classification report, the model achieved an overall accuracy of 68% in distinguishing between cats and dogs. With precision and recall scores around 68%, it demonstrates consistent performance in identifying both classes. The F1-score, a balanced measure of precision and recall, also hovers around 68%, indicating a well-rounded classification capability for this SVM model."
   ]
  },
  {
   "cell_type": "code",
   "execution_count": null,
   "id": "fd521141",
   "metadata": {
    "id": "fd521141",
    "outputId": "e136fca0-5c9e-441c-bc3a-48729a5881f6"
   },
   "outputs": [
    {
     "data": {
      "image/png": "[encoded data removed]",
      "text/plain": [
       "<Figure size 640x480 with 2 Axes>"
      ]
     },
     "metadata": {},
     "output_type": "display_data"
    }
   ],
   "source": [
    "# Confusion matrix\n",
    "cm = confusion_matrix(y_test, y_pred)\n",
    "sns.heatmap(cm, annot=True, fmt=\"d\", cmap=\"Blues\")\n",
    "plt.xlabel('Predicted labels')\n",
    "plt.ylabel('True labels')\n",
    "plt.savefig(confusion_image_path)\n",
    "plt.show()"
   ]
  },
  {
   "cell_type": "code",
   "execution_count": null,
   "id": "02d243cb-d784-4900-9aaa-15e62c408a4b",
   "metadata": {
    "id": "02d243cb-d784-4900-9aaa-15e62c408a4b",
    "outputId": "374898f3-2085-4812-bcff-6ac35aaf97e5"
   },
   "outputs": [
    {
     "name": "stdout",
     "output_type": "stream",
     "text": [
      "Predicted class: Dog\n"
     ]
    }
   ],
   "source": [
    "import cv2\n",
    "import numpy as np\n",
    "\n",
    "# Load the image\n",
    "image_path = \"dog2.png\"  # Replace with the path to your image\n",
    "image = cv2.imread(image_path)\n",
    "\n",
    "# Preprocess the image\n",
    "image_size = (50, 50)\n",
    "image_resized = cv2.resize(image, image_size)\n",
    "image_normalized = image_resized / 255.0\n",
    "image_flattened = image_normalized.flatten()\n",
    "\n",
    "# Reshape the flattened image to match the input shape expected by the model\n",
    "# The model expects a 2D array where each row represents a flattened image\n",
    "image_flattened = np.reshape(image_flattened, (1, -1))\n",
    "\n",
    "# Make prediction using the model\n",
    "predicted_label = best_pipeline.predict(image_flattened)\n",
    "\n",
    "# Display or save results\n",
    "if predicted_label == 0:\n",
    "    print(\"Predicted class: Cat\")\n",
    "else:\n",
    "    print(\"Predicted class: Dog\")\n"
   ]
  },
  {
   "cell_type": "code",
   "execution_count": null,
   "id": "f896971c-3280-428a-8a43-09113cd3a1fe",
   "metadata": {
    "id": "f896971c-3280-428a-8a43-09113cd3a1fe"
   },
   "outputs": [],
   "source": []
  }
 ],
 "metadata": {
  "colab": {
   "provenance": []
  },
  "kernelspec": {
   "display_name": "Python 3 (ipykernel)",
   "language": "python",
   "name": "python3"
  },
  "language_info": {
   "codemirror_mode": {
    "name": "ipython",
    "version": 3
   },
   "file_extension": ".py",
   "mimetype": "text/x-python",
   "name": "python",
   "nbconvert_exporter": "python",
   "pygments_lexer": "ipython3",
   "version": "3.9.13"
  }
 },
 "nbformat": 4,
 "nbformat_minor": 5
}
